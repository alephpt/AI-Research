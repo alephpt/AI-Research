{
  "nbformat": 4,
  "nbformat_minor": 0,
  "metadata": {
    "colab": {
      "provenance": [],
      "authorship_tag": "ABX9TyOzDqHBpSE/1ExAJZImMgMe",
      "include_colab_link": true
    },
    "kernelspec": {
      "name": "python3",
      "display_name": "Python 3"
    },
    "language_info": {
      "name": "python"
    }
  },
  "cells": [
    {
      "cell_type": "markdown",
      "metadata": {
        "id": "view-in-github",
        "colab_type": "text"
      },
      "source": [
        "<a href=\"https://colab.research.google.com/github/alephpt/AI_Projects/blob/main/GPT_Model.ipynb\" target=\"_parent\"><img src=\"https://colab.research.google.com/assets/colab-badge.svg\" alt=\"Open In Colab\"/></a>"
      ]
    },
    {
      "cell_type": "code",
      "execution_count": 15,
      "metadata": {
        "id": "kwjBAG2zQ3-5"
      },
      "outputs": [],
      "source": [
        "import torch\n",
        "import torch.nn as nn\n",
        "from torch.nn import functional as fn\n",
        "import requests"
      ]
    },
    {
      "cell_type": "code",
      "source": [
        "batch_size = 16 # Number of Sequences to Process in Parallel\n",
        "block_size = 32 # Max Content Length for Predictions\n",
        "max_iterations = 5000\n",
        "eval_interval = 100\n",
        "learning_rate = 1e-3\n",
        "device = 'cuda' if torch.cuda.is_available() else 'cpu'\n",
        "eval_iterations = 200 # Number of iterations before saving state\n",
        "n_embed = 64 # Maps the input sequence into high-dimensional space\n",
        "n_head = 4 # Attention head for multi-head attention layers\n",
        "n_layers = 4\n",
        "dropout = 0.0"
      ],
      "metadata": {
        "id": "QwE7Io8fS-e-"
      },
      "execution_count": 3,
      "outputs": []
    },
    {
      "cell_type": "code",
      "source": [
        "torch.manual_seed(1337)\n",
        "bible_url = 'https://www.o-bible.com/download/kjv.txt'\n",
        "bible = requests.get(bible_url)\n",
        "bible_text = bible.text.split(\"\\n\")\n",
        "bible_text.remove(bible_text[0])"
      ],
      "metadata": {
        "id": "cNYvFvEvWQjO"
      },
      "execution_count": 57,
      "outputs": []
    },
    {
      "cell_type": "code",
      "source": [
        "print(bible_text[0])"
      ],
      "metadata": {
        "colab": {
          "base_uri": "https://localhost:8080/"
        },
        "id": "_dghIlZ7iVoL",
        "outputId": "330da34a-213d-4140-fd47-8433d44481d1"
      },
      "execution_count": 58,
      "outputs": [
        {
          "output_type": "stream",
          "name": "stdout",
          "text": [
            "Ge1:1 In the beginning God created the heaven and the earth.\n"
          ]
        }
      ]
    },
    {
      "cell_type": "code",
      "source": [
        "vocab = sorted(list(set(bible.text)))\n",
        "vocab_size = len(vocab)\n",
        "print(\"Vocab Size:\", vocab_size)"
      ],
      "metadata": {
        "colab": {
          "base_uri": "https://localhost:8080/"
        },
        "id": "_3Q4MPZ6iqfF",
        "outputId": "4f4e5078-19fa-466b-cb39-0f989cff9abb"
      },
      "execution_count": 59,
      "outputs": [
        {
          "output_type": "stream",
          "name": "stdout",
          "text": [
            "Vocab Size: 73\n"
          ]
        }
      ]
    },
    {
      "cell_type": "code",
      "source": [
        "stoi = { ch: i for i, ch in enumerate(vocab)}\n",
        "itos = { i: ch for i, ch in enumerate(vocab)}\n",
        "encode = lambda s: [stoi[c] for c in s]\n",
        "decode = lambda l: \"\".join([itos[i] for i in l])\n",
        "\n",
        "nums = encode(\"Today is the day.\")\n",
        "words = decode(nums)\n",
        "\n",
        "print(\"nums\", nums)\n",
        "print(\"words\", words)"
      ],
      "metadata": {
        "colab": {
          "base_uri": "https://localhost:8080/"
        },
        "id": "eU1VGta-mTL0",
        "outputId": "fca0c5bb-35b0-45cc-95ff-0f77c076f21d"
      },
      "execution_count": 66,
      "outputs": [
        {
          "output_type": "stream",
          "name": "stdout",
          "text": [
            "nums [41, 61, 50, 47, 71, 1, 55, 65, 1, 66, 54, 51, 1, 50, 47, 71, 8]\n",
            "words Today is the day.\n"
          ]
        }
      ]
    },
    {
      "cell_type": "code",
      "source": [
        "data = torch.tensor(encode(bible.text), dtype=torch.long)\n",
        "print(data.shape, data.dtype)\n",
        "print(data[:100])"
      ],
      "metadata": {
        "colab": {
          "base_uri": "https://localhost:8080/"
        },
        "id": "uZGhGt1cpw4q",
        "outputId": "5413c451-126e-4aa6-e779-31a5d610b353"
      },
      "execution_count": 71,
      "outputs": [
        {
          "output_type": "stream",
          "name": "stdout",
          "text": [
            "torch.Size([4404443]) torch.int64\n",
            "tensor([29, 61, 58, 71,  1, 23, 55, 48, 58, 51,  6,  1, 22, 67, 66, 54, 61, 64,\n",
            "        55, 72, 51, 50,  1,  4, 32, 55, 60, 53,  1, 31, 47, 59, 51, 65,  5,  1,\n",
            "        43, 51, 64, 65, 55, 61, 60,  6,  1, 41, 51, 70, 66, 52, 55, 58, 51,  1,\n",
            "        18, 12,  9, 10,  9, 14,  8,  0, 28, 51, 10, 19, 10,  1, 30, 60,  1, 66,\n",
            "        54, 51,  1, 48, 51, 53, 55, 60, 60, 55, 60, 53,  1, 28, 61, 50,  1, 49,\n",
            "        64, 51, 47, 66, 51, 50,  1, 66, 54, 51])\n"
          ]
        }
      ]
    },
    {
      "cell_type": "code",
      "source": [
        "n = int(0.9 * len(data)) # train on the first 90%\n",
        "training_data = data[:n]\n",
        "validation_data = data[n:]\n",
        "block_size = 8\n",
        "training_data[:block_size + 1]\n",
        "x = training_data[:block_size]\n",
        "y = training_data[1:block_size + 1]\n",
        "\n",
        "for t in range(block_size):\n",
        "  context = x[:t+1]\n",
        "  target = y[t]\n",
        "  print(f\"when input is {context} the target: {target}\")"
      ],
      "metadata": {
        "colab": {
          "base_uri": "https://localhost:8080/"
        },
        "id": "UmlC4J0NqOWk",
        "outputId": "90c9d14c-5ca3-4fab-9043-62bdfdd3aa27"
      },
      "execution_count": 73,
      "outputs": [
        {
          "output_type": "stream",
          "name": "stdout",
          "text": [
            "when input is tensor([29]) the target: 61\n",
            "when input is tensor([29, 61]) the target: 58\n",
            "when input is tensor([29, 61, 58]) the target: 71\n",
            "when input is tensor([29, 61, 58, 71]) the target: 1\n",
            "when input is tensor([29, 61, 58, 71,  1]) the target: 23\n",
            "when input is tensor([29, 61, 58, 71,  1, 23]) the target: 55\n",
            "when input is tensor([29, 61, 58, 71,  1, 23, 55]) the target: 48\n",
            "when input is tensor([29, 61, 58, 71,  1, 23, 55, 48]) the target: 58\n"
          ]
        }
      ]
    },
    {
      "cell_type": "code",
      "source": [
        "def get_batch(split):\n",
        "  data = training_data if split == \"train\" else validation_data\n",
        "  ix = torch.randint(len(data) - block_size, (batch_size,))\n",
        "  x = torch.stack([data[i:i + block_size] for i in ix])\n",
        "  y = torch.stack([data[i + 1:i + block_size + 1] for i in ix])\n",
        "  return x, y"
      ],
      "metadata": {
        "id": "Hqv1tKTxqgdO"
      },
      "execution_count": 74,
      "outputs": []
    },
    {
      "cell_type": "code",
      "source": [
        "xb, yb = get_batch('train')\n",
        "print(\"inputs:\")\n",
        "print(xb.shape)\n",
        "print(xb)\n",
        "print(\"targets:\")\n",
        "print(yb.shape)\n",
        "print(yb)"
      ],
      "metadata": {
        "colab": {
          "base_uri": "https://localhost:8080/"
        },
        "id": "4clRbxrTsZ0N",
        "outputId": "2d36449c-ccd6-4572-862c-5becce528a08"
      },
      "execution_count": 76,
      "outputs": [
        {
          "output_type": "stream",
          "name": "stdout",
          "text": [
            "inputs:\n",
            "torch.Size([16, 8])\n",
            "tensor([[66, 54, 51, 64, 51, 61, 52,  1],\n",
            "        [65, 54, 47, 58, 58,  1, 60, 61],\n",
            "        [ 1, 66, 54, 51, 51,  1, 66, 61],\n",
            "        [ 1, 47, 58, 65, 61,  1, 69, 55],\n",
            "        [67, 60, 66, 61,  1, 66, 54, 51],\n",
            "        [52, 66, 71,  1, 58, 61, 61, 62],\n",
            "        [ 1, 47, 58, 58,  6,  1, 51, 68],\n",
            "        [66,  1, 57, 51, 51, 62,  1, 55],\n",
            "        [47, 65,  1, 65, 61,  6,  1, 69],\n",
            "        [61, 68, 51, 64,  1, 47, 58, 58],\n",
            "        [55, 64,  1, 51, 53, 53, 65,  1],\n",
            "        [50,  6,  1, 30,  1, 69, 55, 58],\n",
            "        [59,  8,  0, 31, 61, 65, 54, 10],\n",
            "        [51,  1, 33, 36, 39, 25,  6,  1],\n",
            "        [66, 54, 51,  1, 62, 58, 47, 49],\n",
            "        [ 1, 66, 54, 51,  1, 33, 36, 39]])\n",
            "targets:\n",
            "torch.Size([16, 8])\n",
            "tensor([[54, 51, 64, 51, 61, 52,  1, 66],\n",
            "        [54, 47, 58, 58,  1, 60, 61, 66],\n",
            "        [66, 54, 51, 51,  1, 66, 61,  1],\n",
            "        [47, 58, 65, 61,  1, 69, 55, 66],\n",
            "        [60, 66, 61,  1, 66, 54, 51, 59],\n",
            "        [66, 71,  1, 58, 61, 61, 62, 65],\n",
            "        [47, 58, 58,  6,  1, 51, 68, 51],\n",
            "        [ 1, 57, 51, 51, 62,  1, 55, 66],\n",
            "        [65,  1, 65, 61,  6,  1, 69, 54],\n",
            "        [68, 51, 64,  1, 47, 58, 58,  1],\n",
            "        [64,  1, 51, 53, 53, 65,  1, 50],\n",
            "        [ 6,  1, 30,  1, 69, 55, 58, 58],\n",
            "        [ 8,  0, 31, 61, 65, 54, 10, 13],\n",
            "        [ 1, 33, 36, 39, 25,  6,  1, 22],\n",
            "        [54, 51,  1, 62, 58, 47, 49, 51],\n",
            "        [66, 54, 51,  1, 33, 36, 39, 25]])\n"
          ]
        }
      ]
    },
    {
      "cell_type": "code",
      "source": [
        "for b in range(batch_size):\n",
        "  for t in range(block_size):\n",
        "    context = xb[b, :t + 1]\n",
        "    target = yb[b, t]\n",
        "    print(f\"when input is {context.tolist()} the target: {target}\")"
      ],
      "metadata": {
        "colab": {
          "base_uri": "https://localhost:8080/"
        },
        "id": "e_s-uB1hsz10",
        "outputId": "db616dff-dc26-4181-adb7-dc693501cdc3"
      },
      "execution_count": 77,
      "outputs": [
        {
          "output_type": "stream",
          "name": "stdout",
          "text": [
            "when input is [66] the target: 54\n",
            "when input is [66, 54] the target: 51\n",
            "when input is [66, 54, 51] the target: 64\n",
            "when input is [66, 54, 51, 64] the target: 51\n",
            "when input is [66, 54, 51, 64, 51] the target: 61\n",
            "when input is [66, 54, 51, 64, 51, 61] the target: 52\n",
            "when input is [66, 54, 51, 64, 51, 61, 52] the target: 1\n",
            "when input is [66, 54, 51, 64, 51, 61, 52, 1] the target: 66\n",
            "when input is [65] the target: 54\n",
            "when input is [65, 54] the target: 47\n",
            "when input is [65, 54, 47] the target: 58\n",
            "when input is [65, 54, 47, 58] the target: 58\n",
            "when input is [65, 54, 47, 58, 58] the target: 1\n",
            "when input is [65, 54, 47, 58, 58, 1] the target: 60\n",
            "when input is [65, 54, 47, 58, 58, 1, 60] the target: 61\n",
            "when input is [65, 54, 47, 58, 58, 1, 60, 61] the target: 66\n",
            "when input is [1] the target: 66\n",
            "when input is [1, 66] the target: 54\n",
            "when input is [1, 66, 54] the target: 51\n",
            "when input is [1, 66, 54, 51] the target: 51\n",
            "when input is [1, 66, 54, 51, 51] the target: 1\n",
            "when input is [1, 66, 54, 51, 51, 1] the target: 66\n",
            "when input is [1, 66, 54, 51, 51, 1, 66] the target: 61\n",
            "when input is [1, 66, 54, 51, 51, 1, 66, 61] the target: 1\n",
            "when input is [1] the target: 47\n",
            "when input is [1, 47] the target: 58\n",
            "when input is [1, 47, 58] the target: 65\n",
            "when input is [1, 47, 58, 65] the target: 61\n",
            "when input is [1, 47, 58, 65, 61] the target: 1\n",
            "when input is [1, 47, 58, 65, 61, 1] the target: 69\n",
            "when input is [1, 47, 58, 65, 61, 1, 69] the target: 55\n",
            "when input is [1, 47, 58, 65, 61, 1, 69, 55] the target: 66\n",
            "when input is [67] the target: 60\n",
            "when input is [67, 60] the target: 66\n",
            "when input is [67, 60, 66] the target: 61\n",
            "when input is [67, 60, 66, 61] the target: 1\n",
            "when input is [67, 60, 66, 61, 1] the target: 66\n",
            "when input is [67, 60, 66, 61, 1, 66] the target: 54\n",
            "when input is [67, 60, 66, 61, 1, 66, 54] the target: 51\n",
            "when input is [67, 60, 66, 61, 1, 66, 54, 51] the target: 59\n",
            "when input is [52] the target: 66\n",
            "when input is [52, 66] the target: 71\n",
            "when input is [52, 66, 71] the target: 1\n",
            "when input is [52, 66, 71, 1] the target: 58\n",
            "when input is [52, 66, 71, 1, 58] the target: 61\n",
            "when input is [52, 66, 71, 1, 58, 61] the target: 61\n",
            "when input is [52, 66, 71, 1, 58, 61, 61] the target: 62\n",
            "when input is [52, 66, 71, 1, 58, 61, 61, 62] the target: 65\n",
            "when input is [1] the target: 47\n",
            "when input is [1, 47] the target: 58\n",
            "when input is [1, 47, 58] the target: 58\n",
            "when input is [1, 47, 58, 58] the target: 6\n",
            "when input is [1, 47, 58, 58, 6] the target: 1\n",
            "when input is [1, 47, 58, 58, 6, 1] the target: 51\n",
            "when input is [1, 47, 58, 58, 6, 1, 51] the target: 68\n",
            "when input is [1, 47, 58, 58, 6, 1, 51, 68] the target: 51\n",
            "when input is [66] the target: 1\n",
            "when input is [66, 1] the target: 57\n",
            "when input is [66, 1, 57] the target: 51\n",
            "when input is [66, 1, 57, 51] the target: 51\n",
            "when input is [66, 1, 57, 51, 51] the target: 62\n",
            "when input is [66, 1, 57, 51, 51, 62] the target: 1\n",
            "when input is [66, 1, 57, 51, 51, 62, 1] the target: 55\n",
            "when input is [66, 1, 57, 51, 51, 62, 1, 55] the target: 66\n",
            "when input is [47] the target: 65\n",
            "when input is [47, 65] the target: 1\n",
            "when input is [47, 65, 1] the target: 65\n",
            "when input is [47, 65, 1, 65] the target: 61\n",
            "when input is [47, 65, 1, 65, 61] the target: 6\n",
            "when input is [47, 65, 1, 65, 61, 6] the target: 1\n",
            "when input is [47, 65, 1, 65, 61, 6, 1] the target: 69\n",
            "when input is [47, 65, 1, 65, 61, 6, 1, 69] the target: 54\n",
            "when input is [61] the target: 68\n",
            "when input is [61, 68] the target: 51\n",
            "when input is [61, 68, 51] the target: 64\n",
            "when input is [61, 68, 51, 64] the target: 1\n",
            "when input is [61, 68, 51, 64, 1] the target: 47\n",
            "when input is [61, 68, 51, 64, 1, 47] the target: 58\n",
            "when input is [61, 68, 51, 64, 1, 47, 58] the target: 58\n",
            "when input is [61, 68, 51, 64, 1, 47, 58, 58] the target: 1\n",
            "when input is [55] the target: 64\n",
            "when input is [55, 64] the target: 1\n",
            "when input is [55, 64, 1] the target: 51\n",
            "when input is [55, 64, 1, 51] the target: 53\n",
            "when input is [55, 64, 1, 51, 53] the target: 53\n",
            "when input is [55, 64, 1, 51, 53, 53] the target: 65\n",
            "when input is [55, 64, 1, 51, 53, 53, 65] the target: 1\n",
            "when input is [55, 64, 1, 51, 53, 53, 65, 1] the target: 50\n",
            "when input is [50] the target: 6\n",
            "when input is [50, 6] the target: 1\n",
            "when input is [50, 6, 1] the target: 30\n",
            "when input is [50, 6, 1, 30] the target: 1\n",
            "when input is [50, 6, 1, 30, 1] the target: 69\n",
            "when input is [50, 6, 1, 30, 1, 69] the target: 55\n",
            "when input is [50, 6, 1, 30, 1, 69, 55] the target: 58\n",
            "when input is [50, 6, 1, 30, 1, 69, 55, 58] the target: 58\n",
            "when input is [59] the target: 8\n",
            "when input is [59, 8] the target: 0\n",
            "when input is [59, 8, 0] the target: 31\n",
            "when input is [59, 8, 0, 31] the target: 61\n",
            "when input is [59, 8, 0, 31, 61] the target: 65\n",
            "when input is [59, 8, 0, 31, 61, 65] the target: 54\n",
            "when input is [59, 8, 0, 31, 61, 65, 54] the target: 10\n",
            "when input is [59, 8, 0, 31, 61, 65, 54, 10] the target: 13\n",
            "when input is [51] the target: 1\n",
            "when input is [51, 1] the target: 33\n",
            "when input is [51, 1, 33] the target: 36\n",
            "when input is [51, 1, 33, 36] the target: 39\n",
            "when input is [51, 1, 33, 36, 39] the target: 25\n",
            "when input is [51, 1, 33, 36, 39, 25] the target: 6\n",
            "when input is [51, 1, 33, 36, 39, 25, 6] the target: 1\n",
            "when input is [51, 1, 33, 36, 39, 25, 6, 1] the target: 22\n",
            "when input is [66] the target: 54\n",
            "when input is [66, 54] the target: 51\n",
            "when input is [66, 54, 51] the target: 1\n",
            "when input is [66, 54, 51, 1] the target: 62\n",
            "when input is [66, 54, 51, 1, 62] the target: 58\n",
            "when input is [66, 54, 51, 1, 62, 58] the target: 47\n",
            "when input is [66, 54, 51, 1, 62, 58, 47] the target: 49\n",
            "when input is [66, 54, 51, 1, 62, 58, 47, 49] the target: 51\n",
            "when input is [1] the target: 66\n",
            "when input is [1, 66] the target: 54\n",
            "when input is [1, 66, 54] the target: 51\n",
            "when input is [1, 66, 54, 51] the target: 1\n",
            "when input is [1, 66, 54, 51, 1] the target: 33\n",
            "when input is [1, 66, 54, 51, 1, 33] the target: 36\n",
            "when input is [1, 66, 54, 51, 1, 33, 36] the target: 39\n",
            "when input is [1, 66, 54, 51, 1, 33, 36, 39] the target: 25\n"
          ]
        }
      ]
    },
    {
      "cell_type": "code",
      "source": [
        "@torch "
      ],
      "metadata": {
        "id": "mDWDYISdtLWC"
      },
      "execution_count": null,
      "outputs": []
    }
  ]
}